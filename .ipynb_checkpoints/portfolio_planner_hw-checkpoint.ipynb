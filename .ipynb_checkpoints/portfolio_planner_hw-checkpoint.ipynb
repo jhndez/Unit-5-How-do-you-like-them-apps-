{
 "cells": [
  {
   "cell_type": "code",
   "execution_count": 1,
   "metadata": {},
   "outputs": [],
   "source": [
    "#importing alpacas\n",
    "import numpy as np\n",
    "import pandas as pd\n",
    "import os\n",
    "from datetime import datetime, timedelta\n",
    "import matplotlib.pyplot as plt\n",
    "import alpaca_trade_api as tradeapi\n",
    "%matplotlib inline"
   ]
  },
  {
   "cell_type": "code",
   "execution_count": 2,
   "metadata": {},
   "outputs": [],
   "source": [
    "#setting random number generator\n",
    "np.random.seed(42)\n"
   ]
  },
  {
   "cell_type": "code",
   "execution_count": 4,
   "metadata": {},
   "outputs": [],
   "source": [
    "#from dotenv import load_dotenv\n",
    "#load_dotenv()\n",
    "\n",
    "# Set Alpaca API key and secret\n",
    "#alpaca_api_key = os.getenv(\"ALPACA_API_KEY\")\n",
    "#alpaca_secret_key = os.getenv(\"ALPACA_SECRET_KEY\")\n",
    "\n",
    "#setting and confirming keys \n",
    "alpaca_api_key = 'PKA62J68WODZE0M8M1YP'\n",
    "alpaca_secret_key = 'IAL0Qz5q7WYXlYdj2erINQ32QQUpNeIRvPeDNYEw'\n",
    "api = tradeapi.REST(alpaca_api_key, alpaca_secret_key, api_version='v1')"
   ]
  },
  {
   "cell_type": "code",
   "execution_count": 5,
   "metadata": {},
   "outputs": [
    {
     "data": {
      "text/html": [
       "<div>\n",
       "<style scoped>\n",
       "    .dataframe tbody tr th:only-of-type {\n",
       "        vertical-align: middle;\n",
       "    }\n",
       "\n",
       "    .dataframe tbody tr th {\n",
       "        vertical-align: top;\n",
       "    }\n",
       "\n",
       "    .dataframe thead th {\n",
       "        text-align: right;\n",
       "    }\n",
       "</style>\n",
       "<table border=\"1\" class=\"dataframe\">\n",
       "  <thead>\n",
       "    <tr style=\"text-align: right;\">\n",
       "      <th></th>\n",
       "      <th>SPY</th>\n",
       "      <th>AGG</th>\n",
       "    </tr>\n",
       "  </thead>\n",
       "  <tbody>\n",
       "    <tr>\n",
       "      <th>2019-11-26</th>\n",
       "      <td>113.120</td>\n",
       "      <td>314.02</td>\n",
       "    </tr>\n",
       "    <tr>\n",
       "      <th>2019-11-27</th>\n",
       "      <td>112.995</td>\n",
       "      <td>315.46</td>\n",
       "    </tr>\n",
       "    <tr>\n",
       "      <th>2019-11-29</th>\n",
       "      <td>112.925</td>\n",
       "      <td>314.27</td>\n",
       "    </tr>\n",
       "    <tr>\n",
       "      <th>2019-12-02</th>\n",
       "      <td>112.480</td>\n",
       "      <td>311.60</td>\n",
       "    </tr>\n",
       "    <tr>\n",
       "      <th>2019-12-03</th>\n",
       "      <td>113.020</td>\n",
       "      <td>309.47</td>\n",
       "    </tr>\n",
       "  </tbody>\n",
       "</table>\n",
       "</div>"
      ],
      "text/plain": [
       "                SPY     AGG\n",
       "2019-11-26  113.120  314.02\n",
       "2019-11-27  112.995  315.46\n",
       "2019-11-29  112.925  314.27\n",
       "2019-12-02  112.480  311.60\n",
       "2019-12-03  113.020  309.47"
      ]
     },
     "execution_count": 5,
     "metadata": {},
     "output_type": "execute_result"
    }
   ],
   "source": [
    "#SPY = stock, AGG = bonds \n",
    "# Set the ticker\n",
    "list_of_tickers = ['SPY','AGG']\n",
    "\n",
    "# Set timeframe to '1D'\n",
    "timeframe = '1D'\n",
    "\n",
    "# Set start and end datetimes of 1 year, between now and 365 days ago.\n",
    "end_date = datetime.now()\n",
    "start_date = end_date + timedelta(-365)\n",
    "\n",
    "# Get 1 year's worth of historical closing data in data frame  data \n",
    "stk_bnd_df = api.get_barset(\n",
    "    list_of_tickers,\n",
    "    timeframe,\n",
    "    limit=None,\n",
    "    start=start_date,\n",
    "    end=end_date,\n",
    "    after=None,\n",
    "    until=None,\n",
    ").df\n",
    "\n",
    "stk_bnd_df = stk_bnd_df.droplevel(axis=1, level=0)\n",
    "stk_bnd_df.head()\n",
    "stk_bnd_df.drop(columns=['open', 'high', 'low', 'volume'],inplace = True)\n",
    "stk_bnd_df.index = stk_bnd_df.index.date\n",
    "stk_bnd_df.columns = ['SPY','AGG']\n",
    "stk_bnd_df.head()\n",
    "                        "
   ]
  },
  {
   "cell_type": "code",
   "execution_count": 6,
   "metadata": {},
   "outputs": [],
   "source": [
    "#daily roi\n",
    "daily_returns = stk_bnd_df.pct_change()\n",
    "daily_returns.head()\n",
    "\n",
    "#need this for montecarlo\n",
    "avg_daily_return_SPY = daily_returns.mean()['SPY']\n",
    "avg_daily_return_AGG =daily_returns.mean()['AGG'] \n"
   ]
  },
  {
   "cell_type": "code",
   "execution_count": 7,
   "metadata": {},
   "outputs": [
    {
     "data": {
      "text/plain": [
       "0.00849581333829575"
      ]
     },
     "execution_count": 7,
     "metadata": {},
     "output_type": "execute_result"
    }
   ],
   "source": [
    "#calculating volatility (std)\n",
    "std_dev_daily_return_SPY = daily_returns.std()['SPY']\n",
    "std_dev_daily_return_AGG = daily_returns.std()['AGG']\n",
    "\n",
    "#volatility for SPY\n",
    "std_dev_daily_return_SPY \n"
   ]
  },
  {
   "cell_type": "code",
   "execution_count": 8,
   "metadata": {},
   "outputs": [
    {
     "data": {
      "text/plain": [
       "0.030502438092824012"
      ]
     },
     "execution_count": 8,
     "metadata": {},
     "output_type": "execute_result"
    }
   ],
   "source": [
    "#volatlity for AGG\n",
    "std_dev_daily_return_AGG"
   ]
  },
  {
   "cell_type": "code",
   "execution_count": 9,
   "metadata": {},
   "outputs": [],
   "source": [
    "#last days closing prices\n",
    "last_days = stk_bnd_df.iloc[-1]\n",
    "SPY_LAST_CLOSING= last_days['SPY']\n",
    "AGG_LAST_CLOSING = last_days['AGG']"
   ]
  },
  {
   "cell_type": "code",
   "execution_count": 15,
   "metadata": {},
   "outputs": [
    {
     "data": {
      "text/html": [
       "<div>\n",
       "<style scoped>\n",
       "    .dataframe tbody tr th:only-of-type {\n",
       "        vertical-align: middle;\n",
       "    }\n",
       "\n",
       "    .dataframe tbody tr th {\n",
       "        vertical-align: top;\n",
       "    }\n",
       "\n",
       "    .dataframe thead th {\n",
       "        text-align: right;\n",
       "    }\n",
       "</style>\n",
       "<table border=\"1\" class=\"dataframe\">\n",
       "  <thead>\n",
       "    <tr style=\"text-align: right;\">\n",
       "      <th></th>\n",
       "      <th>0</th>\n",
       "      <th>1</th>\n",
       "      <th>2</th>\n",
       "      <th>3</th>\n",
       "      <th>4</th>\n",
       "      <th>5</th>\n",
       "      <th>6</th>\n",
       "      <th>7</th>\n",
       "      <th>8</th>\n",
       "      <th>9</th>\n",
       "      <th>...</th>\n",
       "      <th>490</th>\n",
       "      <th>491</th>\n",
       "      <th>492</th>\n",
       "      <th>493</th>\n",
       "      <th>494</th>\n",
       "      <th>495</th>\n",
       "      <th>496</th>\n",
       "      <th>497</th>\n",
       "      <th>498</th>\n",
       "      <th>499</th>\n",
       "    </tr>\n",
       "  </thead>\n",
       "  <tbody>\n",
       "    <tr>\n",
       "      <th>0</th>\n",
       "      <td>1.000000</td>\n",
       "      <td>1.000000</td>\n",
       "      <td>1.000000</td>\n",
       "      <td>1.000000</td>\n",
       "      <td>1.000000</td>\n",
       "      <td>1.000000</td>\n",
       "      <td>1.000000</td>\n",
       "      <td>1.000000</td>\n",
       "      <td>1.000000</td>\n",
       "      <td>1.000000</td>\n",
       "      <td>...</td>\n",
       "      <td>1.000000</td>\n",
       "      <td>1.000000</td>\n",
       "      <td>1.000000</td>\n",
       "      <td>1.000000</td>\n",
       "      <td>1.000000</td>\n",
       "      <td>1.000000</td>\n",
       "      <td>1.000000</td>\n",
       "      <td>1.000000</td>\n",
       "      <td>1.000000</td>\n",
       "      <td>1.000000</td>\n",
       "    </tr>\n",
       "    <tr>\n",
       "      <th>1</th>\n",
       "      <td>0.995503</td>\n",
       "      <td>0.983812</td>\n",
       "      <td>0.998608</td>\n",
       "      <td>1.030860</td>\n",
       "      <td>1.021217</td>\n",
       "      <td>0.988483</td>\n",
       "      <td>1.003375</td>\n",
       "      <td>1.028637</td>\n",
       "      <td>1.033485</td>\n",
       "      <td>0.999223</td>\n",
       "      <td>...</td>\n",
       "      <td>1.020247</td>\n",
       "      <td>1.027472</td>\n",
       "      <td>1.003581</td>\n",
       "      <td>0.974722</td>\n",
       "      <td>0.990591</td>\n",
       "      <td>1.025658</td>\n",
       "      <td>1.004925</td>\n",
       "      <td>0.981872</td>\n",
       "      <td>0.988560</td>\n",
       "      <td>1.012197</td>\n",
       "    </tr>\n",
       "    <tr>\n",
       "      <th>2</th>\n",
       "      <td>0.988691</td>\n",
       "      <td>0.982361</td>\n",
       "      <td>1.007397</td>\n",
       "      <td>1.024694</td>\n",
       "      <td>1.010887</td>\n",
       "      <td>0.981208</td>\n",
       "      <td>0.995837</td>\n",
       "      <td>1.055722</td>\n",
       "      <td>1.019921</td>\n",
       "      <td>1.002167</td>\n",
       "      <td>...</td>\n",
       "      <td>1.018263</td>\n",
       "      <td>1.037564</td>\n",
       "      <td>1.023498</td>\n",
       "      <td>0.982967</td>\n",
       "      <td>0.971087</td>\n",
       "      <td>1.039870</td>\n",
       "      <td>1.001192</td>\n",
       "      <td>0.984828</td>\n",
       "      <td>1.016787</td>\n",
       "      <td>1.016904</td>\n",
       "    </tr>\n",
       "    <tr>\n",
       "      <th>3</th>\n",
       "      <td>0.980997</td>\n",
       "      <td>0.981255</td>\n",
       "      <td>1.007498</td>\n",
       "      <td>1.026091</td>\n",
       "      <td>1.025694</td>\n",
       "      <td>0.979951</td>\n",
       "      <td>0.997735</td>\n",
       "      <td>1.067738</td>\n",
       "      <td>1.014025</td>\n",
       "      <td>1.001997</td>\n",
       "      <td>...</td>\n",
       "      <td>1.018067</td>\n",
       "      <td>1.044352</td>\n",
       "      <td>1.010407</td>\n",
       "      <td>0.952204</td>\n",
       "      <td>0.995218</td>\n",
       "      <td>1.045598</td>\n",
       "      <td>0.986610</td>\n",
       "      <td>1.007551</td>\n",
       "      <td>1.027478</td>\n",
       "      <td>1.012677</td>\n",
       "    </tr>\n",
       "    <tr>\n",
       "      <th>4</th>\n",
       "      <td>0.971275</td>\n",
       "      <td>0.978699</td>\n",
       "      <td>1.020368</td>\n",
       "      <td>1.012946</td>\n",
       "      <td>1.048165</td>\n",
       "      <td>0.992923</td>\n",
       "      <td>0.977414</td>\n",
       "      <td>1.077014</td>\n",
       "      <td>1.019417</td>\n",
       "      <td>1.017215</td>\n",
       "      <td>...</td>\n",
       "      <td>1.036457</td>\n",
       "      <td>1.064931</td>\n",
       "      <td>1.023586</td>\n",
       "      <td>0.954604</td>\n",
       "      <td>1.013028</td>\n",
       "      <td>1.046649</td>\n",
       "      <td>0.981652</td>\n",
       "      <td>0.996050</td>\n",
       "      <td>1.015488</td>\n",
       "      <td>1.024018</td>\n",
       "    </tr>\n",
       "  </tbody>\n",
       "</table>\n",
       "<p>5 rows × 500 columns</p>\n",
       "</div>"
      ],
      "text/plain": [
       "        0         1         2         3         4         5         6    \\\n",
       "0  1.000000  1.000000  1.000000  1.000000  1.000000  1.000000  1.000000   \n",
       "1  0.995503  0.983812  0.998608  1.030860  1.021217  0.988483  1.003375   \n",
       "2  0.988691  0.982361  1.007397  1.024694  1.010887  0.981208  0.995837   \n",
       "3  0.980997  0.981255  1.007498  1.026091  1.025694  0.979951  0.997735   \n",
       "4  0.971275  0.978699  1.020368  1.012946  1.048165  0.992923  0.977414   \n",
       "\n",
       "        7         8         9    ...       490       491       492       493  \\\n",
       "0  1.000000  1.000000  1.000000  ...  1.000000  1.000000  1.000000  1.000000   \n",
       "1  1.028637  1.033485  0.999223  ...  1.020247  1.027472  1.003581  0.974722   \n",
       "2  1.055722  1.019921  1.002167  ...  1.018263  1.037564  1.023498  0.982967   \n",
       "3  1.067738  1.014025  1.001997  ...  1.018067  1.044352  1.010407  0.952204   \n",
       "4  1.077014  1.019417  1.017215  ...  1.036457  1.064931  1.023586  0.954604   \n",
       "\n",
       "        494       495       496       497       498       499  \n",
       "0  1.000000  1.000000  1.000000  1.000000  1.000000  1.000000  \n",
       "1  0.990591  1.025658  1.004925  0.981872  0.988560  1.012197  \n",
       "2  0.971087  1.039870  1.001192  0.984828  1.016787  1.016904  \n",
       "3  0.995218  1.045598  0.986610  1.007551  1.027478  1.012677  \n",
       "4  1.013028  1.046649  0.981652  0.996050  1.015488  1.024018  \n",
       "\n",
       "[5 rows x 500 columns]"
      ]
     },
     "execution_count": 15,
     "metadata": {},
     "output_type": "execute_result"
    }
   ],
   "source": [
    "# Setup the Monte Carlo Parameters\n",
    "number_simulations = 500\n",
    "number_records = 252 * 30\n",
    "\n",
    "#portfolio weights\n",
    "weights = [0.60,0.40]\n",
    "\n",
    "#empty df for simulation\n",
    "simulated_price_df = pd.DataFrame()\n",
    "portfolio_cumulative_returns = pd.DataFrame()\n",
    "\n",
    "# Run the simulation of projecting stock prices for the next trading year, `1000` times\n",
    "for n in range(number_simulations):\n",
    "\n",
    "    # Initialize the simulated prices list with the last closing price of `JNJ` and `MU`\n",
    "    simulated_spy_prices = [SPY_LAST_CLOSING]\n",
    "    simulated_agg_prices = [AGG_LAST_CLOSING]\n",
    "    \n",
    "    # Simulate the returns for 252 days\n",
    "    for i in range(number_records):\n",
    "        \n",
    "        # Calculate the simulated price using the last price within the list\n",
    "        simulated_spy_price = simulated_spy_prices[-1] * (1 + np.random.normal(avg_daily_return_SPY, std_dev_daily_return_SPY))\n",
    "        simulated_agg_price = simulated_agg_prices[-1] * (1 + np.random.normal(avg_daily_return_AGG, std_dev_daily_return_AGG))\n",
    "        \n",
    "        # Append the simulated price to the list\n",
    "        simulated_spy_prices.append(simulated_spy_price)\n",
    "        simulated_agg_prices.append(simulated_agg_price)\n",
    "    \n",
    "    # Append a simulated prices of each simulation to DataFrame\n",
    "    simulated_price_df[\"SPY prices\"] = pd.Series(simulated_spy_prices)\n",
    "    simulated_price_df[\"AGG prices\"] = pd.Series(simulated_agg_prices)\n",
    "    \n",
    "    # Calculate the daily returns of simulated prices\n",
    "    simulated_daily_returns = simulated_price_df.pct_change()\n",
    "    \n",
    "\n",
    "    # Use the `dot` function with the weights to multiply weights with each column's simulated daily returns\n",
    "    portfolio_daily_returns = simulated_daily_returns.dot(weights)\n",
    "    \n",
    "    # Calculate the normalized, cumulative return series\n",
    "    portfolio_cumulative_returns[n] = (1 + portfolio_daily_returns.fillna(0)).cumprod()\n",
    "\n",
    "# Print records from the DataFrame\n",
    "portfolio_cumulative_returns.head()\n"
   ]
  },
  {
   "cell_type": "code",
   "execution_count": 19,
   "metadata": {},
   "outputs": [
    {
     "data": {
      "text/plain": [
       "<matplotlib.axes._subplots.AxesSubplot at 0x1b20ded7f08>"
      ]
     },
     "execution_count": 19,
     "metadata": {},
     "output_type": "execute_result"
    },
    {
     "data": {
      "image/png": "[encoded data removed]",
      "text/plain": [
       "<Figure size 432x288 with 1 Axes>"
      ]
     },
     "metadata": {
      "needs_background": "light"
     },
     "output_type": "display_data"
    }
   ],
   "source": [
    "#500 simulations over 30 years \n",
    "plot_title = f\"{n+1} Simulations of Cumulative Return Trajectories over the next 30 years\"\n",
    "portfolio_cumulative_returns.plot(title=plot_title,legend=False)"
   ]
  },
  {
   "cell_type": "code",
   "execution_count": 44,
   "metadata": {},
   "outputs": [
    {
     "data": {
      "text/plain": [
       "39.05608958816826"
      ]
     },
     "execution_count": 44,
     "metadata": {},
     "output_type": "execute_result"
    }
   ],
   "source": [
    "#last row for cumulative returns at 30 years \n",
    "thirtyyears_returns = portfolio_cumulative_returns.iloc[-1]\n",
    "thirtyyears_returns = thirtyyears_returns.max()\n",
    "thirtyyears_returns"
   ]
  },
  {
   "cell_type": "code",
   "execution_count": 45,
   "metadata": {},
   "outputs": [
    {
     "data": {
      "text/plain": [
       "17.083698727478936"
      ]
     },
     "execution_count": 45,
     "metadata": {},
     "output_type": "execute_result"
    }
   ],
   "source": [
    "#select the last row for cumulative returns at 20 years \n",
    "twentyyearsreturn = portfolio_cumulative_returns.iloc[20*252,:]\n",
    "twentyyearsreturn.max()"
   ]
  },
  {
   "cell_type": "code",
   "execution_count": 24,
   "metadata": {},
   "outputs": [
    {
     "data": {
      "text/plain": [
       "0.05    0.081911\n",
       "0.95    1.493608\n",
       "Name: 5040, dtype: float64"
      ]
     },
     "execution_count": 24,
     "metadata": {},
     "output_type": "execute_result"
    }
   ],
   "source": [
    "#confidence interval\n",
    "confidence_ = twentyyearsreturn.quantile(q=[0.05,0.95])\n",
    "confidence_"
   ]
  },
  {
   "cell_type": "code",
   "execution_count": 26,
   "metadata": {},
   "outputs": [
    {
     "data": {
      "text/plain": [
       "<matplotlib.lines.Line2D at 0x1b2107511c8>"
      ]
     },
     "execution_count": 26,
     "metadata": {},
     "output_type": "execute_result"
    },
    {
     "data": {
      "image/png": "[encoded data removed]",
      "text/plain": [
       "<Figure size 432x288 with 1 Axes>"
      ]
     },
     "metadata": {
      "needs_background": "light"
     },
     "output_type": "display_data"
    }
   ],
   "source": [
    "#distribution of ending returns\n",
    "plt.figure();\n",
    "twentyyearsreturn.plot(kind='hist',density=True,bins=10)\n",
    "plt.axvline(confidence_.iloc[0],color='y')\n",
    "plt.axvline(confidence_.iloc[1],color='y')\n"
   ]
  },
  {
   "cell_type": "code",
   "execution_count": 46,
   "metadata": {},
   "outputs": [
    {
     "ename": "AttributeError",
     "evalue": "'numpy.float64' object has no attribute 'quantile'",
     "output_type": "error",
     "traceback": [
      "\u001b[1;31m---------------------------------------------------------------------------\u001b[0m",
      "\u001b[1;31mAttributeError\u001b[0m                            Traceback (most recent call last)",
      "\u001b[1;32m<ipython-input-46-d0a0019c09c5>\u001b[0m in \u001b[0;36m<module>\u001b[1;34m\u001b[0m\n\u001b[0;32m      1\u001b[0m \u001b[1;31m#What are the expected cumulative returns at 30 years for the 10th, 50th, and 90th percentiles?\u001b[0m\u001b[1;33m\u001b[0m\u001b[1;33m\u001b[0m\u001b[1;33m\u001b[0m\u001b[0m\n\u001b[0;32m      2\u001b[0m \u001b[1;33m\u001b[0m\u001b[0m\n\u001b[1;32m----> 3\u001b[1;33m \u001b[0mthirtyyrs_10th\u001b[0m \u001b[1;33m=\u001b[0m \u001b[0mthirtyyears_returns\u001b[0m\u001b[1;33m.\u001b[0m\u001b[0mquantile\u001b[0m\u001b[1;33m(\u001b[0m\u001b[0mq\u001b[0m\u001b[1;33m=\u001b[0m\u001b[1;33m[\u001b[0m\u001b[1;36m0.90\u001b[0m\u001b[1;33m,\u001b[0m\u001b[1;36m0.10\u001b[0m\u001b[1;33m]\u001b[0m\u001b[1;33m)\u001b[0m\u001b[1;33m\u001b[0m\u001b[1;33m\u001b[0m\u001b[0m\n\u001b[0m\u001b[0;32m      4\u001b[0m \u001b[0mthirtyyrs_50th\u001b[0m \u001b[1;33m=\u001b[0m \u001b[0mthirtyyears_returns\u001b[0m\u001b[1;33m.\u001b[0m\u001b[0mquantile\u001b[0m\u001b[1;33m(\u001b[0m\u001b[0mq\u001b[0m\u001b[1;33m=\u001b[0m\u001b[1;33m[\u001b[0m\u001b[1;36m0.50\u001b[0m\u001b[1;33m,\u001b[0m\u001b[1;36m0.50\u001b[0m\u001b[1;33m]\u001b[0m\u001b[1;33m)\u001b[0m\u001b[1;33m\u001b[0m\u001b[1;33m\u001b[0m\u001b[0m\n\u001b[0;32m      5\u001b[0m \u001b[0mthirtyyrs_90th\u001b[0m \u001b[1;33m=\u001b[0m \u001b[0mthirtyyears_returns\u001b[0m\u001b[1;33m.\u001b[0m\u001b[0mquantile\u001b[0m\u001b[1;33m(\u001b[0m\u001b[0mq\u001b[0m\u001b[1;33m=\u001b[0m\u001b[1;33m[\u001b[0m\u001b[1;36m0.10\u001b[0m\u001b[1;33m,\u001b[0m\u001b[1;36m0.90\u001b[0m\u001b[1;33m]\u001b[0m\u001b[1;33m)\u001b[0m\u001b[1;33m\u001b[0m\u001b[1;33m\u001b[0m\u001b[0m\n",
      "\u001b[1;31mAttributeError\u001b[0m: 'numpy.float64' object has no attribute 'quantile'"
     ]
    }
   ],
   "source": [
    "#What are the expected cumulative returns at 30 years for the 10th, 50th, and 90th percentiles?\n",
    "\n",
    "thirtyyrs_10th = thirtyyears_returns.quantile(q=[0.90,0.10]) \n",
    "thirtyyrs_50th = thirtyyears_returns.quantile(q=[0.50,0.50])\n",
    "thirtyyrs_90th = thirtyyears_returns.quantile(q=[0.10,0.90])\n",
    "\n",
    "thirtyyrs_10th\n",
    "thirtyyrs_50th\n",
    "thirtyyrs_90th"
   ]
  },
  {
   "cell_type": "code",
   "execution_count": 33,
   "metadata": {},
   "outputs": [
    {
     "ename": "NameError",
     "evalue": "name 'thirtyyrs_10th' is not defined",
     "output_type": "error",
     "traceback": [
      "\u001b[1;31m---------------------------------------------------------------------------\u001b[0m",
      "\u001b[1;31mNameError\u001b[0m                                 Traceback (most recent call last)",
      "\u001b[1;32m<ipython-input-33-189ebc558116>\u001b[0m in \u001b[0;36m<module>\u001b[1;34m\u001b[0m\n\u001b[0;32m      3\u001b[0m \u001b[1;33m\u001b[0m\u001b[0m\n\u001b[0;32m      4\u001b[0m \u001b[1;33m\u001b[0m\u001b[0m\n\u001b[1;32m----> 5\u001b[1;33m \u001b[0mconfidence_30yrs_10th_withnewinvestment\u001b[0m \u001b[1;33m=\u001b[0m \u001b[0minitial_investment\u001b[0m \u001b[1;33m*\u001b[0m \u001b[0mthirtyyrs_10th\u001b[0m\u001b[1;33m\u001b[0m\u001b[1;33m\u001b[0m\u001b[0m\n\u001b[0m\u001b[0;32m      6\u001b[0m \u001b[0mconfidence_30yrs_50th_withnewinvestment\u001b[0m \u001b[1;33m=\u001b[0m \u001b[0minitial_investment\u001b[0m \u001b[1;33m*\u001b[0m \u001b[0mthirtyyrs_50th\u001b[0m\u001b[1;33m\u001b[0m\u001b[1;33m\u001b[0m\u001b[0m\n\u001b[0;32m      7\u001b[0m \u001b[0mconfidence_30yrs_90th_withnewinvestment\u001b[0m \u001b[1;33m=\u001b[0m \u001b[0minitial_investment\u001b[0m \u001b[1;33m*\u001b[0m \u001b[0mthirtyyrs_90th\u001b[0m\u001b[1;33m\u001b[0m\u001b[1;33m\u001b[0m\u001b[0m\n",
      "\u001b[1;31mNameError\u001b[0m: name 'thirtyyrs_10th' is not defined"
     ]
    }
   ],
   "source": [
    "# Set initial investment, predict returns at different confidence intervals \n",
    "initial_investment = 20000\n",
    "\n",
    "\n",
    "confidence_30yrs_10th_withnewinvestment = initial_investment * thirtyyrs_10th\n",
    "confidence_30yrs_50th_withnewinvestment = initial_investment * thirtyyrs_50th\n",
    "confidence_30yrs_90th_withnewinvestment = initial_investment * thirtyyrs_90th\n",
    "\n",
    "confidence_30yrs_10th_withnewinvestment\n",
    "\n",
    "confidence_30yrs_50th_withnewinvestment\n",
    "\n",
    "confidence_30yrs_90th_withnewinvestment"
   ]
  },
  {
   "cell_type": "code",
   "execution_count": null,
   "metadata": {},
   "outputs": [],
   "source": [
    " #Given the current projected annual income from the Plaid analysis, will a 4% withdraw rate from the retirement portfolio meet or exceed that value at the 10th percentile?\n",
    "    \n",
    "    #It would exceed. "
   ]
  },
  {
   "cell_type": "code",
   "execution_count": 7,
   "metadata": {},
   "outputs": [],
   "source": [
    "#How would a 50% increase in the initial investment amount affect the 4% retirement withdrawal?\n",
    "#Likely increase by a hefty value, from $20,000 to $30,000 is alot. "
   ]
  },
  {
   "cell_type": "code",
   "execution_count": null,
   "metadata": {},
   "outputs": [],
   "source": []
  }
 ],
 "metadata": {
  "kernelspec": {
   "display_name": "Python 3",
   "language": "python",
   "name": "python3"
  },
  "language_info": {
   "codemirror_mode": {
    "name": "ipython",
    "version": 3
   },
   "file_extension": ".py",
   "mimetype": "text/x-python",
   "name": "python",
   "nbconvert_exporter": "python",
   "pygments_lexer": "ipython3",
   "version": "3.7.5"
  }
 },
 "nbformat": 4,
 "nbformat_minor": 4
}

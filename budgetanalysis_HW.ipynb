{
 "cells": [
  {
   "cell_type": "code",
   "execution_count": 2,
   "metadata": {},
   "outputs": [],
   "source": [
    "\n",
    "import os\n",
    "import plaid\n",
    "import requests\n",
    "import datetime\n",
    "import json\n",
    "import pandas as pd\n",
    "%matplotlib inline\n",
    "\n",
    "def pretty_print_response(response):\n",
    "  print(json.dumps(response, indent=4, sort_keys=True))\n",
    "\n",
    "PLAID_CLIENT_ID= '5e8cfcca83c0da0013e6eb79' \n",
    "PLAID_SECRET_KEY= '6d776f8ff718ab1f44e9e4c8bdc445' \n",
    "PLAID_PUBLIC_KEY= '59b7acfaeb4a1a2852b8f775598574' \n",
    "PLAID_PRODUCTS= ('PLAID_PRODUCTS','transactions' )\n",
    "PLAID_ENV=('sandbox','PLAID_ENV') \n"
   ]
  },
  {
   "cell_type": "code",
   "execution_count": 3,
   "metadata": {},
   "outputs": [],
   "source": [
    "# Create client object\n",
    "client = plaid.Client(client_id=PLAID_CLIENT_ID, secret=PLAID_SECRET_KEY, public_key=PLAID_PUBLIC_KEY, environment='sandbox')\n",
    "\n",
    "# Get institutions\n",
    "INSTITUTION_ID = \"ins_109508\"\n",
    "# Create public token to be exchanged for institution access token\n",
    "create_tkn_response = client.Sandbox.public_token.create(INSTITUTION_ID, ['transactions','income','assets'])\n",
    "\n",
    "# Exchange public token for access token\n",
    "exchange_response = client.Item.public_token.exchange(create_tkn_response['public_token'])\n",
    "\n",
    "# Store access token as variable\n",
    "access_token = exchange_response['access_token']\n",
    "\n"
   ]
  },
  {
   "cell_type": "code",
   "execution_count": 4,
   "metadata": {},
   "outputs": [
    {
     "name": "stdout",
     "output_type": "stream",
     "text": [
      "\"Payment\"\n",
      "\"Travel\"\n",
      "\"Transfer\"\n",
      "\"Transfer\"\n",
      "\"Recreation\"\n",
      "\"Travel\"\n",
      "\"Food and Drink\"\n",
      "\"Food and Drink\"\n",
      "\"Food and Drink\"\n",
      "\"Transfer\"\n",
      "\"Travel\"\n",
      "\"Travel\"\n",
      "\"Food and Drink\"\n",
      "\"Payment\"\n",
      "\"Food and Drink\"\n",
      "\"Shops\"\n"
     ]
    }
   ],
   "source": [
    "# Get transactions for institution for specific date range\n",
    "start_date = '{:%Y-%m-%d}'.format(datetime.datetime.now() + datetime.timedelta(-90))\n",
    "end_date = '{:%Y-%m-%d}'.format(datetime.datetime.now())\n",
    "\n",
    "# Get transactions for date range\n",
    "response =client.Transactions.get(access_token,start_date,end_date)\n",
    "\n",
    "#print list of categorys \n",
    "for transactions in response['transactions']:\n",
    "        categoryjson = json.dumps(transactions['category'][0])\n",
    "        print(categoryjson)"
   ]
  },
  {
   "cell_type": "code",
   "execution_count": 5,
   "metadata": {},
   "outputs": [
    {
     "data": {
      "text/html": [
       "<div>\n",
       "<style scoped>\n",
       "    .dataframe tbody tr th:only-of-type {\n",
       "        vertical-align: middle;\n",
       "    }\n",
       "\n",
       "    .dataframe tbody tr th {\n",
       "        vertical-align: top;\n",
       "    }\n",
       "\n",
       "    .dataframe thead th {\n",
       "        text-align: right;\n",
       "    }\n",
       "</style>\n",
       "<table border=\"1\" class=\"dataframe\">\n",
       "  <thead>\n",
       "    <tr style=\"text-align: right;\">\n",
       "      <th></th>\n",
       "      <th>Category</th>\n",
       "      <th>Name</th>\n",
       "      <th>Amount</th>\n",
       "    </tr>\n",
       "    <tr>\n",
       "      <th>Date</th>\n",
       "      <th></th>\n",
       "      <th></th>\n",
       "      <th></th>\n",
       "    </tr>\n",
       "  </thead>\n",
       "  <tbody>\n",
       "    <tr>\n",
       "      <th>2020-04-15</th>\n",
       "      <td>Payment</td>\n",
       "      <td>CREDIT CARD 3333 PAYMENT *//</td>\n",
       "      <td>25.00</td>\n",
       "    </tr>\n",
       "    <tr>\n",
       "      <th>2020-04-15</th>\n",
       "      <td>Travel</td>\n",
       "      <td>Uber</td>\n",
       "      <td>5.40</td>\n",
       "    </tr>\n",
       "    <tr>\n",
       "      <th>2020-04-14</th>\n",
       "      <td>Transfer</td>\n",
       "      <td>ACH Electronic CreditGUSTO PAY 123456</td>\n",
       "      <td>5850.00</td>\n",
       "    </tr>\n",
       "    <tr>\n",
       "      <th>2020-04-14</th>\n",
       "      <td>Transfer</td>\n",
       "      <td>CD DEPOSIT .INITIAL.</td>\n",
       "      <td>1000.00</td>\n",
       "    </tr>\n",
       "    <tr>\n",
       "      <th>2020-04-13</th>\n",
       "      <td>Recreation</td>\n",
       "      <td>Touchstone Climbing</td>\n",
       "      <td>78.50</td>\n",
       "    </tr>\n",
       "    <tr>\n",
       "      <th>2020-04-13</th>\n",
       "      <td>Travel</td>\n",
       "      <td>United Airlines</td>\n",
       "      <td>-500.00</td>\n",
       "    </tr>\n",
       "    <tr>\n",
       "      <th>2020-04-12</th>\n",
       "      <td>Food and Drink</td>\n",
       "      <td>McDonald's</td>\n",
       "      <td>12.00</td>\n",
       "    </tr>\n",
       "    <tr>\n",
       "      <th>2020-04-12</th>\n",
       "      <td>Food and Drink</td>\n",
       "      <td>Starbucks</td>\n",
       "      <td>4.33</td>\n",
       "    </tr>\n",
       "    <tr>\n",
       "      <th>2020-04-11</th>\n",
       "      <td>Food and Drink</td>\n",
       "      <td>SparkFun</td>\n",
       "      <td>89.40</td>\n",
       "    </tr>\n",
       "    <tr>\n",
       "      <th>2020-04-10</th>\n",
       "      <td>Transfer</td>\n",
       "      <td>INTRST PYMNT</td>\n",
       "      <td>-4.22</td>\n",
       "    </tr>\n",
       "    <tr>\n",
       "      <th>2020-03-31</th>\n",
       "      <td>Travel</td>\n",
       "      <td>United Airlines</td>\n",
       "      <td>500.00</td>\n",
       "    </tr>\n",
       "    <tr>\n",
       "      <th>2020-03-29</th>\n",
       "      <td>Travel</td>\n",
       "      <td>Uber</td>\n",
       "      <td>6.33</td>\n",
       "    </tr>\n",
       "    <tr>\n",
       "      <th>2020-03-26</th>\n",
       "      <td>Food and Drink</td>\n",
       "      <td>Tectra Inc</td>\n",
       "      <td>500.00</td>\n",
       "    </tr>\n",
       "    <tr>\n",
       "      <th>2020-03-25</th>\n",
       "      <td>Payment</td>\n",
       "      <td>AUTOMATIC PAYMENT - THANK</td>\n",
       "      <td>2078.50</td>\n",
       "    </tr>\n",
       "    <tr>\n",
       "      <th>2020-03-25</th>\n",
       "      <td>Food and Drink</td>\n",
       "      <td>KFC</td>\n",
       "      <td>500.00</td>\n",
       "    </tr>\n",
       "    <tr>\n",
       "      <th>2020-03-25</th>\n",
       "      <td>Shops</td>\n",
       "      <td>Madison Bicycle Shop</td>\n",
       "      <td>500.00</td>\n",
       "    </tr>\n",
       "  </tbody>\n",
       "</table>\n",
       "</div>"
      ],
      "text/plain": [
       "                  Category                                   Name   Amount\n",
       "Date                                                                      \n",
       "2020-04-15         Payment           CREDIT CARD 3333 PAYMENT *//    25.00\n",
       "2020-04-15          Travel                                   Uber     5.40\n",
       "2020-04-14        Transfer  ACH Electronic CreditGUSTO PAY 123456  5850.00\n",
       "2020-04-14        Transfer                   CD DEPOSIT .INITIAL.  1000.00\n",
       "2020-04-13      Recreation                    Touchstone Climbing    78.50\n",
       "2020-04-13          Travel                        United Airlines  -500.00\n",
       "2020-04-12  Food and Drink                             McDonald's    12.00\n",
       "2020-04-12  Food and Drink                              Starbucks     4.33\n",
       "2020-04-11  Food and Drink                               SparkFun    89.40\n",
       "2020-04-10        Transfer                           INTRST PYMNT    -4.22\n",
       "2020-03-31          Travel                        United Airlines   500.00\n",
       "2020-03-29          Travel                                   Uber     6.33\n",
       "2020-03-26  Food and Drink                             Tectra Inc   500.00\n",
       "2020-03-25         Payment              AUTOMATIC PAYMENT - THANK  2078.50\n",
       "2020-03-25  Food and Drink                                    KFC   500.00\n",
       "2020-03-25           Shops                   Madison Bicycle Shop   500.00"
      ]
     },
     "execution_count": 5,
     "metadata": {},
     "output_type": "execute_result"
    }
   ],
   "source": [
    "#Create a new DataFrame using the following fields from the JSON transaction data: date, name, amount, category.\n",
    "categorydata = []\n",
    "datedata = []\n",
    "namedata=[]\n",
    "amountdata=[]\n",
    "\n",
    "for transactions in response['transactions']:\n",
    "        categoryjson = json.dumps(transactions['category'][0])\n",
    "        categoryjson = categoryjson.strip('\"\"')\n",
    "        categorydata.append(categoryjson)\n",
    "        \n",
    "        datejson = json.dumps(transactions['date'])\n",
    "        datejson = datejson.strip('\"\"')\n",
    "        datedata.append(datejson)\n",
    "        \n",
    "        namejson = json.dumps(transactions['name'])\n",
    "        namejson = namejson.strip('\"\"')\n",
    "        namedata.append(namejson)\n",
    "    \n",
    "        \n",
    "        amountjson = json.dumps(transactions['amount'])\n",
    "        namejson = namejson.strip('\"\"')\n",
    "        amountdata.append(float(amountjson))\n",
    "        \n",
    " \n",
    "categorydf = pd.DataFrame(categorydata)\n",
    "datedf = pd.DataFrame(datedata)\n",
    "datedf = pd.to_datetime(datedf[0])\n",
    "namedf = pd.DataFrame(namedata)\n",
    "amountdf = pd.DataFrame(amountdata)\n",
    "\n",
    "accountdf = pd.concat([categorydf,datedf,namedf,amountdf],axis = \"columns\",join=\"inner\")\n",
    "accountdf.columns = ['Category','Date','Name','Amount']\n",
    "accountdf.set_index('Date',inplace=True)\n",
    "accountdf"
   ]
  },
  {
   "cell_type": "code",
   "execution_count": 6,
   "metadata": {},
   "outputs": [
    {
     "name": "stdout",
     "output_type": "stream",
     "text": [
      "$7285\n",
      "$500\n",
      "$6085\n"
     ]
    }
   ],
   "source": [
    "\n",
    "\n",
    "# Print gross income for last year \n",
    "responseincome =client.Income.get(access_token)\n",
    "incomedata = responseincome['income']\n",
    "gross_income = json.dumps(incomedata['last_year_income_before_tax'])\n",
    "\n",
    "#current monthly income\n",
    "month = incomedata['income_streams']\n",
    "monthlypay = month[0]\n",
    "monthlypayday = json.dumps(monthlypay['monthly_income'])\n",
    "\n",
    "#projected yearly income\n",
    "yearly_inc = json.dumps(incomedata['projected_yearly_income'])\n",
    "\n",
    "print (\"$\"+ gross_income )\n",
    "print(\"$\" + monthlypayday)\n",
    "print(\"$\"+ yearly_inc)"
   ]
  },
  {
   "cell_type": "code",
   "execution_count": 9,
   "metadata": {},
   "outputs": [
    {
     "data": {
      "text/html": [
       "<div>\n",
       "<style scoped>\n",
       "    .dataframe tbody tr th:only-of-type {\n",
       "        vertical-align: middle;\n",
       "    }\n",
       "\n",
       "    .dataframe tbody tr th {\n",
       "        vertical-align: top;\n",
       "    }\n",
       "\n",
       "    .dataframe thead th {\n",
       "        text-align: right;\n",
       "    }\n",
       "</style>\n",
       "<table border=\"1\" class=\"dataframe\">\n",
       "  <thead>\n",
       "    <tr style=\"text-align: right;\">\n",
       "      <th></th>\n",
       "      <th>Amount</th>\n",
       "    </tr>\n",
       "    <tr>\n",
       "      <th>Category</th>\n",
       "      <th></th>\n",
       "    </tr>\n",
       "  </thead>\n",
       "  <tbody>\n",
       "    <tr>\n",
       "      <th>Food and Drink</th>\n",
       "      <td>1105.73</td>\n",
       "    </tr>\n",
       "    <tr>\n",
       "      <th>Payment</th>\n",
       "      <td>2103.50</td>\n",
       "    </tr>\n",
       "    <tr>\n",
       "      <th>Recreation</th>\n",
       "      <td>78.50</td>\n",
       "    </tr>\n",
       "    <tr>\n",
       "      <th>Shops</th>\n",
       "      <td>500.00</td>\n",
       "    </tr>\n",
       "    <tr>\n",
       "      <th>Transfer</th>\n",
       "      <td>6845.78</td>\n",
       "    </tr>\n",
       "    <tr>\n",
       "      <th>Travel</th>\n",
       "      <td>11.73</td>\n",
       "    </tr>\n",
       "  </tbody>\n",
       "</table>\n",
       "</div>"
      ],
      "text/plain": [
       "                 Amount\n",
       "Category               \n",
       "Food and Drink  1105.73\n",
       "Payment         2103.50\n",
       "Recreation        78.50\n",
       "Shops            500.00\n",
       "Transfer        6845.78\n",
       "Travel            11.73"
      ]
     },
     "execution_count": 9,
     "metadata": {},
     "output_type": "execute_result"
    }
   ],
   "source": [
    "#total spending per category, charted\n",
    "spendingtotal = accountdf.drop(columns = ['Name'])\n",
    "newtotal = spendingtotal.set_index('Category')\n",
    "spending_per_category = newtotal.groupby(['Category']).sum()\n",
    "spending_per_category"
   ]
  },
  {
   "cell_type": "code",
   "execution_count": 10,
   "metadata": {},
   "outputs": [
    {
     "data": {
      "text/plain": [
       "array([<matplotlib.axes._subplots.AxesSubplot object at 0x000002D0359E9348>],\n",
       "      dtype=object)"
      ]
     },
     "execution_count": 10,
     "metadata": {},
     "output_type": "execute_result"
    },
    {
     "data": {
      "image/png": "[encoded data removed]",
      "text/plain": [
       "<Figure size 432x288 with 1 Axes>"
      ]
     },
     "metadata": {},
     "output_type": "display_data"
    }
   ],
   "source": [
    "#pie chart of exp per category\n",
    "spending_per_category.plot.pie(subplots=True)"
   ]
  },
  {
   "cell_type": "code",
   "execution_count": 207,
   "metadata": {},
   "outputs": [
    {
     "data": {
      "text/plain": [
       "<matplotlib.axes._subplots.AxesSubplot at 0x1e5a969ec08>"
      ]
     },
     "execution_count": 207,
     "metadata": {},
     "output_type": "execute_result"
    },
    {
     "data": {
      "image/png": "[encoded data removed]",
      "text/plain": [
       "<Figure size 432x288 with 1 Axes>"
      ]
     },
     "metadata": {
      "needs_background": "light"
     },
     "output_type": "display_data"
    }
   ],
   "source": [
    "#Generate a bar chart with the number of transactions for each category \n",
    "count_of_transactions = spendingtotal.groupby(['Category']).count()\n",
    "count_of_transactions.plot.bar()"
   ]
  },
  {
   "cell_type": "code",
   "execution_count": 233,
   "metadata": {},
   "outputs": [
    {
     "data": {
      "text/plain": [
       "<matplotlib.axes._subplots.AxesSubplot at 0x1e5aae89ac8>"
      ]
     },
     "execution_count": 233,
     "metadata": {},
     "output_type": "execute_result"
    },
    {
     "data": {
      "image/png": "[encoded data removed]",
      "text/plain": [
       "<Figure size 432x288 with 1 Axes>"
      ]
     },
     "metadata": {
      "needs_background": "light"
     },
     "output_type": "display_data"
    }
   ],
   "source": [
    "#Calculate the expenses per month\n",
    "bar_chart = spendingtotal.groupby(pd.Grouper(freq='M')).count()\n",
    "bar_chart.drop(columns = ['Amount'],inplace=True)\n",
    "bar_chart.plot.bar()\n"
   ]
  },
  {
   "cell_type": "code",
   "execution_count": null,
   "metadata": {},
   "outputs": [],
   "source": []
  }
 ],
 "metadata": {
  "kernelspec": {
   "display_name": "Python 3",
   "language": "python",
   "name": "python3"
  },
  "language_info": {
   "codemirror_mode": {
    "name": "ipython",
    "version": 3
   },
   "file_extension": ".py",
   "mimetype": "text/x-python",
   "name": "python",
   "nbconvert_exporter": "python",
   "pygments_lexer": "ipython3",
   "version": "3.7.5"
  }
 },
 "nbformat": 4,
 "nbformat_minor": 4
}
